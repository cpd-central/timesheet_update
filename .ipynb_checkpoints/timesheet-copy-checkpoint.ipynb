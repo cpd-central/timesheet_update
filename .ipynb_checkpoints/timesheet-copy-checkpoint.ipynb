{
 "cells": [
  {
   "cell_type": "code",
   "execution_count": 1,
   "metadata": {},
   "outputs": [],
   "source": [
    "import pymongo\n",
    "from pymongo import MongoClient"
   ]
  },
  {
   "cell_type": "code",
   "execution_count": 2,
   "metadata": {},
   "outputs": [],
   "source": [
    "host = '192.168.99.100'\n",
    "port = '9999'\n",
    "db_name = 'CEG_PROJECTS'"
   ]
  },
  {
   "cell_type": "code",
   "execution_count": 10,
   "metadata": {},
   "outputs": [],
   "source": [
    "client = pymongo.MongoClient(f'mongodb://{host}:{port}')\n",
    "db = client[db_name]\n",
    "coll = db['timesheets']\n",
    "coll_users = db['users']"
   ]
  },
  {
   "cell_type": "code",
   "execution_count": 11,
   "metadata": {},
   "outputs": [],
   "source": [
    "import pandas as pd"
   ]
  },
  {
   "cell_type": "code",
   "execution_count": 12,
   "metadata": {},
   "outputs": [],
   "source": [
    "data = pd.DataFrame(list(coll.find()))\n",
    "user_data = pd.DataFrame(list(coll_users.find()))"
   ]
  },
  {
   "cell_type": "code",
   "execution_count": 13,
   "metadata": {},
   "outputs": [
    {
     "data": {
      "text/plain": [
       "0    {'CEG': {'General and Admin': [], 'Staff Meeti...\n",
       "1    {'CEG': {'General and Admin': [], 'Staff Meeti...\n",
       "Name: Codes, dtype: object"
      ]
     },
     "execution_count": 13,
     "metadata": {},
     "output_type": "execute_result"
    }
   ],
   "source": [
    "data['Codes']"
   ]
  },
  {
   "cell_type": "code",
   "execution_count": 26,
   "metadata": {},
   "outputs": [
    {
     "name": "stdout",
     "output_type": "stream",
     "text": [
      "0    rclintsman@ceg-engineers.com\n",
      "1                  tuser@test.com\n",
      "Name: user, dtype: object\n"
     ]
    }
   ],
   "source": [
    "users = data['user']\n",
    "print(users)"
   ]
  },
  {
   "cell_type": "code",
   "execution_count": 25,
   "metadata": {},
   "outputs": [],
   "source": [
    "count = 0\n",
    "for user in users:\n",
    "    count += 1\n",
    "    \n",
    "email_timesheet_dict = {\"rclintsman@ceg-engineers.com\": \"ClintsmanREXPERIMENT.xls\", \"tuser@test.com\": \"ClintsmanREXPERIMENT 2.xls\"}\n",
    "\n",
    "for i in range(count):\n",
    "    email_timesheet_dict.update( {data['user'][i]: data['Codes'][i]})"
   ]
  },
  {
   "cell_type": "code",
   "execution_count": 15,
   "metadata": {},
   "outputs": [
    {
     "data": {
      "text/html": [
       "<div>\n",
       "<style scoped>\n",
       "    .dataframe tbody tr th:only-of-type {\n",
       "        vertical-align: middle;\n",
       "    }\n",
       "\n",
       "    .dataframe tbody tr th {\n",
       "        vertical-align: top;\n",
       "    }\n",
       "\n",
       "    .dataframe thead th {\n",
       "        text-align: right;\n",
       "    }\n",
       "</style>\n",
       "<table border=\"1\" class=\"dataframe\">\n",
       "  <thead>\n",
       "    <tr style=\"text-align: right;\">\n",
       "      <th></th>\n",
       "      <th>_id</th>\n",
       "      <th>created_at</th>\n",
       "      <th>email</th>\n",
       "      <th>email_verified_at</th>\n",
       "      <th>name</th>\n",
       "      <th>password</th>\n",
       "      <th>role</th>\n",
       "      <th>updated_at</th>\n",
       "    </tr>\n",
       "  </thead>\n",
       "  <tbody>\n",
       "    <tr>\n",
       "      <th>0</th>\n",
       "      <td>5d26338f903481019906e1f5</td>\n",
       "      <td>2019-07-10 18:50:55</td>\n",
       "      <td>rclintsman@ceg-engineers.com</td>\n",
       "      <td>2019-07-10 18:51:06</td>\n",
       "      <td>Randall Clintsman</td>\n",
       "      <td>$2y$10$tRMCGChUwe0iPPxj36uvm.vNO0UyGRceuUwEDlu...</td>\n",
       "      <td>user</td>\n",
       "      <td>2019-07-10 18:51:06</td>\n",
       "    </tr>\n",
       "    <tr>\n",
       "      <th>1</th>\n",
       "      <td>5d27703390348103676e9de4</td>\n",
       "      <td>2019-07-11 17:21:55</td>\n",
       "      <td>tuser@test.com</td>\n",
       "      <td>2019-07-11 17:21:55</td>\n",
       "      <td>Stephen Katz</td>\n",
       "      <td>$2y$10$yWU52X.9cgCwkko5GCS.X.R.Sr9y9z.7EpCctLW...</td>\n",
       "      <td>user</td>\n",
       "      <td>2019-07-11 17:21:55</td>\n",
       "    </tr>\n",
       "  </tbody>\n",
       "</table>\n",
       "</div>"
      ],
      "text/plain": [
       "                        _id          created_at                         email  \\\n",
       "0  5d26338f903481019906e1f5 2019-07-10 18:50:55  rclintsman@ceg-engineers.com   \n",
       "1  5d27703390348103676e9de4 2019-07-11 17:21:55                tuser@test.com   \n",
       "\n",
       "    email_verified_at               name  \\\n",
       "0 2019-07-10 18:51:06  Randall Clintsman   \n",
       "1 2019-07-11 17:21:55       Stephen Katz   \n",
       "\n",
       "                                            password  role          updated_at  \n",
       "0  $2y$10$tRMCGChUwe0iPPxj36uvm.vNO0UyGRceuUwEDlu...  user 2019-07-10 18:51:06  \n",
       "1  $2y$10$yWU52X.9cgCwkko5GCS.X.R.Sr9y9z.7EpCctLW...  user 2019-07-11 17:21:55  "
      ]
     },
     "execution_count": 15,
     "metadata": {},
     "output_type": "execute_result"
    }
   ],
   "source": [
    "user_data"
   ]
  },
  {
   "cell_type": "code",
   "execution_count": 16,
   "metadata": {},
   "outputs": [],
   "source": [
    "#data['Codes'][0]['CEG']['General and Admin']"
   ]
  },
  {
   "cell_type": "code",
   "execution_count": 17,
   "metadata": {},
   "outputs": [],
   "source": [
    "#data['Codes'][0]['CEG']['General and Admin'].keys()"
   ]
  },
  {
   "cell_type": "code",
   "execution_count": 18,
   "metadata": {},
   "outputs": [],
   "source": [
    "#entry = data['Codes'][0]['CEG']['General and Admin']['5-Jul']"
   ]
  },
  {
   "cell_type": "code",
   "execution_count": 19,
   "metadata": {},
   "outputs": [],
   "source": [
    "import xlwings as xw"
   ]
  },
  {
   "cell_type": "code",
   "execution_count": 287,
   "metadata": {},
   "outputs": [],
   "source": [
    "wb = xw.Book('ClintsmanREXPERIMENT.xls')\n",
    "sht = wb.sheets['7-July']"
   ]
  },
  {
   "cell_type": "code",
   "execution_count": 288,
   "metadata": {},
   "outputs": [],
   "source": [
    "descriptions = []\n",
    "codes = list(data['Codes'][0])\n",
    "for code in codes:\n",
    "    if code == 'Additional_Codes':\n",
    "        codes.remove('Additional_Codes')\n",
    "    else:\n",
    "        keys = data['Codes'][0][code].keys()\n",
    "        for key in keys:\n",
    "            descriptions.append(key)"
   ]
  },
  {
   "cell_type": "code",
   "execution_count": 289,
   "metadata": {
    "scrolled": true
   },
   "outputs": [
    {
     "name": "stdout",
     "output_type": "stream",
     "text": [
      "['General and Admin', 'Staff Meetings and HR', 'Research and Training', 'data training', 'Formal EDU', 'General Marketing', 'Kimball', 'test']\n"
     ]
    }
   ],
   "source": [
    "print(descriptions)"
   ]
  },
  {
   "cell_type": "code",
   "execution_count": 290,
   "metadata": {},
   "outputs": [
    {
     "name": "stdout",
     "output_type": "stream",
     "text": [
      "['CEG', 'CEGTRNG', 'CEGEDU', 'CEGMKTG', 'CEGFAM', 'CEGPRO']\n"
     ]
    }
   ],
   "source": [
    "print(codes)"
   ]
  },
  {
   "cell_type": "code",
   "execution_count": 291,
   "metadata": {},
   "outputs": [],
   "source": [
    "expensed_labor = sht.range('A5:A69').value"
   ]
  },
  {
   "cell_type": "code",
   "execution_count": 292,
   "metadata": {},
   "outputs": [],
   "source": [
    "code_column = sht.range('AL5:AL69').value"
   ]
  },
  {
   "cell_type": "code",
   "execution_count": 293,
   "metadata": {},
   "outputs": [],
   "source": [
    "daterange = sht.range('B3:AF3').value"
   ]
  },
  {
   "cell_type": "code",
   "execution_count": 294,
   "metadata": {},
   "outputs": [],
   "source": [
    "#expensed_labor[20:]"
   ]
  },
  {
   "cell_type": "code",
   "execution_count": 295,
   "metadata": {},
   "outputs": [],
   "source": [
    "row_index_dict = {\"Vacation\": 5, \"Holiday\": 6, \"Sick Leave\": 7, \"Funeral\": 8, \"Personal\": 9, \"Jury Duty\": 10,\\\n",
    "                  \"Using FMLA - No Pay\": 11, \"Using FMLA - PTO\": 12, \"Out on Workers Comp\": 13, \"Holiday\": 14,\\\n",
    "                  \"PTO\":15,\"Expensed Labor\": 16, \"General and Admin\": 17,\"Staff Meetings and HR\": 18,\\\n",
    "                  \"Research and Training\": 19, \"Formal EDU\":20, \"General Marketing\":21, \"\":22, \"\":23, \"Billable Projects: ↓\":24}"
   ]
  },
  {
   "cell_type": "code",
   "execution_count": 296,
   "metadata": {},
   "outputs": [],
   "source": [
    "column_index_list = ['B','C','D','E','F','G','H','I','J','K','L','M','N','O','P','Q','R','S','T','U','V','W','X','Y','Z','AA',\\\n",
    "                    'AB','AC','AD','AE','AF']"
   ]
  },
  {
   "cell_type": "code",
   "execution_count": 297,
   "metadata": {},
   "outputs": [],
   "source": [
    "nonbillable = [\"CEG\", \"CEGTRNG\", \"CEGEDU\", \"CEGMKTG\"]"
   ]
  },
  {
   "cell_type": "code",
   "execution_count": 298,
   "metadata": {},
   "outputs": [],
   "source": [
    "def get_column_index(day):\n",
    "    num = day.split('-')[0]\n",
    "    column = column_index_list[int(num) - 1]\n",
    "    return column\n",
    "\n",
    "def add_expensed_labor(desc,code):\n",
    "    j = 0;\n",
    "    labor_range = expensed_labor[20:]\n",
    "    for exp in labor_range:\n",
    "        if exp == None:\n",
    "            row = 25+j\n",
    "            row_index_dict.update( {desc : row} )\n",
    "            sht.range(f\"A{row}\").value = desc\n",
    "            sht.range(f\"AL{row}\").value = code\n",
    "            break\n",
    "        j += 1\n",
    "        \n",
    "def add_nonbillable_labor(desc, code):\n",
    "    j = 0;\n",
    "    labor_range = expensed_labor[17:19]\n",
    "    for exp in labor_range:\n",
    "        if exp == None:\n",
    "            row = 22+j\n",
    "            row_index_dict.update( {desc : row} )\n",
    "            sht.range(f\"A{row}\").value = desc\n",
    "            sht.range(f\"AL{row}\").value = code\n",
    "            break\n",
    "        j += 1"
   ]
  },
  {
   "cell_type": "code",
   "execution_count": 299,
   "metadata": {},
   "outputs": [],
   "source": [
    "import datetime"
   ]
  },
  {
   "cell_type": "code",
   "execution_count": 300,
   "metadata": {
    "scrolled": false
   },
   "outputs": [
    {
     "name": "stdout",
     "output_type": "stream",
     "text": [
      "CEG Staff Meetings and HR 14-Jul\n",
      "O18\n",
      "CEGTRNG Research and Training 5-Jul\n",
      "F19\n",
      "CEGTRNG Research and Training 10-Jul\n",
      "K19\n",
      "CEGTRNG data training 6-Jul\n",
      "G22\n",
      "CEGEDU Formal EDU 11-Jul\n",
      "L20\n",
      "CEGFAM Kimball 9-Jul\n",
      "J25\n",
      "CEGPRO test 7-Jul\n",
      "H26\n"
     ]
    }
   ],
   "source": [
    "for code in codes:\n",
    "    dates = list()\n",
    "    for desc in descriptions:\n",
    "        if len(data['Codes'][0][code]) > 0:\n",
    "            if desc in data['Codes'][0][code] and len(data['Codes'][0][code][desc]) > 0:\n",
    "                dates = data['Codes'][0][code][desc].keys()\n",
    "                for day in daterange:\n",
    "                    dt = datetime.datetime.strptime(str(day), '%Y-%m-%d %H:%M:%S')\n",
    "                    day = '{0}-{1}'.format(dt.day, dt.strftime(\"%b\"))\n",
    "                    for date in dates:\n",
    "                        if day == date:\n",
    "                            print(code + \" \" + desc + \" \" + day)\n",
    "                            column = get_column_index(day)\n",
    "                            if desc not in expensed_labor:\n",
    "                                    if code not in nonbillable:\n",
    "                                        add_expensed_labor(desc, code)\n",
    "                                    else:\n",
    "                                        add_nonbillable_labor(desc, code)                                      \n",
    "                                    expensed_labor = sht.range('A5:A69').value\n",
    "                                    code_column = sht.range('AL5:AL69').value\n",
    "                            for i,exp in enumerate(expensed_labor):\n",
    "                                if exp == desc and code == code_column[i]:\n",
    "                                        row = row_index_dict[desc]\n",
    "                                        print(f\"{column}{row}\")\n",
    "                                        entry = data['Codes'][0][code][desc][day]\n",
    "                                        sht.range(f\"{column}{row}\").value = entry\n",
    "                                        break"
   ]
  },
  {
   "cell_type": "code",
   "execution_count": 275,
   "metadata": {},
   "outputs": [],
   "source": [
    "#dt = datetime.datetime.strptime(str(daterange[0]), '%Y-%m-%d %H:%M:%S')\n",
    "#print('{0}/{1}/{2:02}'.format(dt.month, dt.day, dt.year % 100))\n",
    "#print('{0}-{1}'.format(dt.day, dt.strftime(\"%b\")))"
   ]
  },
  {
   "cell_type": "code",
   "execution_count": 30,
   "metadata": {},
   "outputs": [],
   "source": [
    "#############Test Program#####################"
   ]
  },
  {
   "cell_type": "code",
   "execution_count": 7,
   "metadata": {},
   "outputs": [
    {
     "name": "stdout",
     "output_type": "stream",
     "text": [
      "A5\n"
     ]
    }
   ],
   "source": [
    "k = 5\n",
    "string = str(\"A\"+str(k))\n",
    "print(string)"
   ]
  },
  {
   "cell_type": "code",
   "execution_count": 67,
   "metadata": {},
   "outputs": [
    {
     "name": "stdout",
     "output_type": "stream",
     "text": [
      "['7-July', '6-June']\n"
     ]
    }
   ],
   "source": [
    "sheets_dict = {1: \"1-January\", 2: \"2-February\", 3: \"3-March\", 4: \"4-April\", 5: \"5-May\", 6:\"6-June\", 7:\"7-July\", 8:\"8-August\",\\\n",
    "              9:\"9-September\", 10:\"10-October\", 11:\"11-November\", 12:\"12-December\"}\n",
    "\n",
    "sheets = []\n",
    "now = datetime.datetime.now()\n",
    "sheets.append(sheets_dict[now.month])  #get current month sheet\n",
    "\n",
    "date_previous = datetime.datetime.now() - datetime.timedelta(days=20)\n",
    "if date_previous.month != now.month:\n",
    "    sheets.append(sheets_dict[date_previous.month])\n",
    "print(sheets)"
   ]
  },
  {
   "cell_type": "code",
   "execution_count": 14,
   "metadata": {
    "scrolled": false
   },
   "outputs": [
    {
     "name": "stdout",
     "output_type": "stream",
     "text": [
      "1-Jul-19\n",
      "2-Jul-19\n",
      "3-Jul-19\n",
      "4-Jul-19\n",
      "5-Jul-19\n",
      "6-Jul-19\n",
      "7-Jul-19\n",
      "8-Jul-19\n",
      "9-Jul-19\n",
      "10-Jul-19\n",
      "11-Jul-19\n",
      "12-Jul-19\n",
      "13-Jul-19\n",
      "14-Jul-19\n",
      "15-Jul-19\n",
      "16-Jul-19\n",
      "17-Jul-19\n",
      "18-Jul-19\n",
      "19-Jul-19\n",
      "20-Jul-19\n",
      "21-Jul-19\n",
      "22-Jul-19\n",
      "23-Jul-19\n",
      "24-Jul-19\n",
      "25-Jul-19\n",
      "26-Jul-19\n",
      "27-Jul-19\n",
      "28-Jul-19\n",
      "29-Jul-19\n",
      "30-Jul-19\n",
      "31-Jul-19\n",
      "7-July CEG complete\n",
      "1-Jul-19\n",
      "2-Jul-19\n",
      "3-Jul-19\n",
      "4-Jul-19\n",
      "5-Jul-19\n",
      "6-Jul-19\n",
      "7-Jul-19\n",
      "8-Jul-19\n",
      "9-Jul-19\n",
      "10-Jul-19\n",
      "11-Jul-19\n",
      "12-Jul-19\n",
      "13-Jul-19\n",
      "14-Jul-19\n",
      "15-Jul-19\n",
      "16-Jul-19\n",
      "17-Jul-19\n",
      "18-Jul-19\n",
      "19-Jul-19\n",
      "20-Jul-19\n",
      "21-Jul-19\n",
      "22-Jul-19\n",
      "23-Jul-19\n",
      "24-Jul-19\n",
      "25-Jul-19\n",
      "26-Jul-19\n",
      "27-Jul-19\n",
      "28-Jul-19\n",
      "29-Jul-19\n",
      "30-Jul-19\n",
      "31-Jul-19\n",
      "7-July CEGTRNG complete\n",
      "7-July CEGEDU complete\n",
      "7-July CEGMKTG complete\n",
      "1-Jul-19\n",
      "2-Jul-19\n",
      "3-Jul-19\n",
      "4-Jul-19\n",
      "5-Jul-19\n",
      "6-Jul-19\n",
      "7-Jul-19\n",
      "8-Jul-19\n",
      "9-Jul-19\n",
      "10-Jul-19\n",
      "11-Jul-19\n",
      "12-Jul-19\n",
      "13-Jul-19\n",
      "14-Jul-19\n",
      "15-Jul-19\n",
      "16-Jul-19\n",
      "17-Jul-19\n",
      "18-Jul-19\n",
      "19-Jul-19\n",
      "20-Jul-19\n",
      "21-Jul-19\n",
      "22-Jul-19\n",
      "23-Jul-19\n",
      "24-Jul-19\n",
      "25-Jul-19\n",
      "26-Jul-19\n",
      "27-Jul-19\n",
      "28-Jul-19\n",
      "29-Jul-19\n",
      "30-Jul-19\n",
      "31-Jul-19\n",
      "7-July CEGKIM complete\n"
     ]
    }
   ],
   "source": [
    "import pymongo\n",
    "from pymongo import MongoClient\n",
    "import xlwings as xw\n",
    "import pandas as pd\n",
    "import datetime\n",
    "import importlib\n",
    "\n",
    "host = '192.168.99.100'\n",
    "port = '9999'\n",
    "db_name = 'CEG_PROJECTS'\n",
    "client = pymongo.MongoClient(f'mongodb://{host}:{port}')\n",
    "db = client[db_name]\n",
    "coll = db['timesheets']\n",
    "coll_users = db['users']\n",
    "\n",
    "data = pd.DataFrame(list(coll.find()))\n",
    "user_data = pd.DataFrame(list(coll_users.find()))\n",
    "\n",
    "users = data['user']\n",
    "\n",
    "count = 0\n",
    "for user in users:\n",
    "    count += 1\n",
    "    \n",
    "email_timesheet_dict = {\"rclintsman@ceg-engineers.com\": \"ClintsmanREXPERIMENT.xls\"}\n",
    "\n",
    "\n",
    "sheets_dict = {1: \"1-January\", 2: \"2-February\", 3: \"3-March\", 4: \"4-April\", 5: \"5-May\", 6:\"6-June\", 7:\"7-July\", 8:\"8-August\",\\\n",
    "              9:\"9-September\", 10:\"10-October\", 11:\"11-November\", 12:\"12-December\"}\n",
    "\n",
    "sheets = []\n",
    "now = datetime.datetime.now()\n",
    "sheets.append(sheets_dict[now.month])  #get current month sheet\n",
    "\n",
    "date_previous = datetime.datetime.now() - datetime.timedelta(days=14)      #gets 14 days prior to now\n",
    "if date_previous.month != now.month:                #if the months aren't the same, get the sheet of the pervious month\n",
    "    sheets.append(sheets_dict[date_previous.month])\n",
    "\n",
    "\n",
    "for j,user in enumerate(users):\n",
    "    wb = xw.Book(email_timesheet_dict[user])\n",
    "    for sheet in sheets:\n",
    "        sht =wb.sheets[sheet]\n",
    "\n",
    "        descriptions = []\n",
    "        codes = list(data['Codes'][j])\n",
    "        for code in codes:\n",
    "            if code == 'Additional_Codes':\n",
    "                codes.remove('Additional_Codes')\n",
    "            else:\n",
    "                keys = data['Codes'][j][code].keys()\n",
    "                for key in keys:\n",
    "                    descriptions.append(key)\n",
    "        \n",
    "\n",
    "        expensed_labor = sht.range('A5:A69').value\n",
    "        code_column = sht.range('AL5:AL69').value\n",
    "        daterange = sht.range('B3:AF3').value\n",
    "\n",
    "        column_index_list = ['B','C','D','E','F','G','H','I','J','K','L','M','N','O','P','Q','R','S','T','U','V','W','X','Y','Z','AA',\\\n",
    "                        'AB','AC','AD','AE','AF']\n",
    "\n",
    "        row_index_dict = {}\n",
    "        k = 5\n",
    "        for exp_lab in expensed_labor:\n",
    "            if exp_lab == None and k > 24:\n",
    "                break\n",
    "            else:\n",
    "                string = str(\"A\"+str(k))\n",
    "                row_index_dict.update({sht.range(string).value: k})\n",
    "                k += 1\n",
    "\n",
    "        nonbillable = [\"CEG\", \"CEGTRNG\", \"CEGEDU\", \"CEGMKTG\"]\n",
    "\n",
    "        def get_column_index(day):\n",
    "            num = day.split('-')[0]\n",
    "            column = column_index_list[int(num) - 1]\n",
    "            return column\n",
    "\n",
    "        def add_expensed_labor(desc,code):\n",
    "            j = 0;\n",
    "            labor_range = expensed_labor[20:]\n",
    "            for exp in labor_range:\n",
    "                if exp == None:\n",
    "                    row = 25+j\n",
    "                    row_index_dict.update( {desc : row} )\n",
    "                    sht.range(f\"A{row}\").value = desc\n",
    "                    sht.range(f\"AL{row}\").value = code\n",
    "                    break\n",
    "                j += 1\n",
    "\n",
    "        def add_nonbillable_labor(desc, code):\n",
    "            j = 0;\n",
    "            labor_range = expensed_labor[17:19]\n",
    "            for exp in labor_range:\n",
    "                if exp == None:\n",
    "                    row = 22+j\n",
    "                    row_index_dict.update( {desc : row} )\n",
    "                    sht.range(f\"A{row}\").value = desc\n",
    "                    sht.range(f\"AL{row}\").value = code\n",
    "                    break\n",
    "                j += 1\n",
    "\n",
    "\n",
    "        ##this gets rid of code thats not in the database and also wipes all the columns because they'll be reinserted.\n",
    "        for m,el in enumerate(expensed_labor):\n",
    "            if m < 12 or m == 19:\n",
    "                continue\n",
    "            if el in row_index_dict and el in descriptions:\n",
    "                row = row_index_dict[el]\n",
    "                for col in column_index_list:\n",
    "                    sht.range(f\"{col}{row}\").value = None\n",
    "            if el in row_index_dict and el not in descriptions:\n",
    "                row = row_index_dict[el]\n",
    "                for col in column_index_list:\n",
    "                    string = str(\"A\"+str(row))\n",
    "                    sht.range(f\"{col}{row}\").value = None\n",
    "                    sht.range(f\"A{row}\").value = None\n",
    "                    sht.range(f\"AL{row}\").value = None\n",
    "            if el == None and m > 19:\n",
    "                break\n",
    "\n",
    "        #Adds all the code from the database to the timesheet.\n",
    "        for code in codes:\n",
    "            dates = list()\n",
    "            for desc in descriptions:\n",
    "                if len(data['Codes'][j][code]) > 0:\n",
    "                    if desc in data['Codes'][j][code] and len(data['Codes'][j][code][desc]) > 0:\n",
    "                        dates = data['Codes'][j][code][desc].keys()\n",
    "                        for day in daterange:\n",
    "                            if day == None:     #This avoids AF column being called on month that doesn't have a date 31\n",
    "                                continue\n",
    "                            dt = datetime.datetime.strptime(str(day), '%Y-%m-%d %H:%M:%S')\n",
    "                            day = '{0}-{1}'.format(dt.day, dt.strftime(\"%b-%y\"))\n",
    "                            print(day)\n",
    "                            for date in dates:\n",
    "                                if day == date:\n",
    "                                    column = get_column_index(day)\n",
    "                                    if desc not in expensed_labor:\n",
    "                                            if code not in nonbillable:\n",
    "                                                add_expensed_labor(desc, code)\n",
    "                                            else:\n",
    "                                                add_nonbillable_labor(desc, code)                                      \n",
    "\n",
    "                                            expensed_labor = sht.range('A5:A69').value\n",
    "                                            code_column = sht.range('AL5:AL69').value\n",
    "                                    for i,exp in enumerate(expensed_labor):\n",
    "                                        if exp == desc and code == code_column[i]:\n",
    "                                            row = row_index_dict[desc]\n",
    "                                            entry = data['Codes'][j][code][desc][day]\n",
    "                                            sht.range(f\"{column}{row}\").value = entry\n",
    "                                            break\n",
    "            print(f\"{sheet} {code} complete\")"
   ]
  },
  {
   "cell_type": "code",
   "execution_count": 48,
   "metadata": {},
   "outputs": [],
   "source": [
    "#wb.save()"
   ]
  },
  {
   "cell_type": "code",
   "execution_count": null,
   "metadata": {},
   "outputs": [],
   "source": []
  }
 ],
 "metadata": {
  "kernelspec": {
   "display_name": "Python 3",
   "language": "python",
   "name": "python3"
  },
  "language_info": {
   "codemirror_mode": {
    "name": "ipython",
    "version": 3
   },
   "file_extension": ".py",
   "mimetype": "text/x-python",
   "name": "python",
   "nbconvert_exporter": "python",
   "pygments_lexer": "ipython3",
   "version": "3.6.8"
  }
 },
 "nbformat": 4,
 "nbformat_minor": 2
}
